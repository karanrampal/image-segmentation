{
 "cells": [
  {
   "cell_type": "markdown",
   "metadata": {},
   "source": [
    "# Model\n",
    "The model used is a hybrid Mask RCNN and U-Net as shown in the figure below,\n",
    "\n",
    "![image](../data/seg_mask_rcnn.png)\n",
    "\n",
    "Zoomed in version of the architecture backbone\n",
    "\n",
    "![image](../data/maskrcnn.png)"
   ]
  },
  {
   "cell_type": "markdown",
   "metadata": {},
   "source": [
    "# Train\n",
    "To train on single node and multipl gpus, use the following,"
   ]
  },
  {
   "cell_type": "code",
   "execution_count": null,
   "metadata": {},
   "outputs": [],
   "source": [
    "#%torchrun --standalone --nnodes=1 --nproc_per_node=2 /dbfs/imseg/train.py"
   ]
  },
  {
   "cell_type": "markdown",
   "metadata": {},
   "source": [
    "# Visualize\n",
    "Plot a few validation data images and also the model results"
   ]
  },
  {
   "cell_type": "code",
   "execution_count": null,
   "metadata": {},
   "outputs": [],
   "source": [
    "import os\n",
    "import sys\n",
    "sys.path.insert(0, \"../src\")\n",
    "\n",
    "import matplotlib.pyplot as plt\n",
    "import numpy as np\n",
    "import torch\n",
    "from PIL import Image\n",
    "from torchvision.transforms import ToTensor\n",
    "\n",
    "from model.data_loader import FashionpediaDataset, get_transform\n",
    "from utils.vis_utils import vis_data\n",
    "from utils.utils import filter_data\n",
    "\n",
    "torch.manual_seed(0)\n",
    "np.random.seed(0)\n",
    "\n",
    "plt.style.use('dark_background')"
   ]
  },
  {
   "cell_type": "code",
   "execution_count": null,
   "metadata": {},
   "outputs": [],
   "source": [
    "data_path = \"../../../datasets/Fashionpedia\"\n",
    "val_json = \"annotations/val.json\"\n",
    "val_img_path = \"images/test\"\n",
    "model_path = \"../experiments/base\""
   ]
  },
  {
   "cell_type": "code",
   "execution_count": null,
   "metadata": {},
   "outputs": [],
   "source": [
    "thr = [0.15] * 46\n",
    "thr[1] = 0.75\n",
    "thr[4] = 0.2\n",
    "thr[8] = 0.5\n",
    "thr[10] = 0.25\n",
    "thr[15] = 0.2\n",
    "thr[18] = 0.4\n",
    "thr[19] = 0.3\n",
    "thr[24] = 0.5\n",
    "thr[28] = 0.5\n",
    "thr[29] = 0.2\n",
    "thr[31] = 0.85\n",
    "thr[33] = 0.5\n",
    "thr[34] = 0.2\n",
    "thr[43] = 0.5"
   ]
  },
  {
   "cell_type": "code",
   "execution_count": null,
   "metadata": {},
   "outputs": [],
   "source": [
    "model = torch.load(os.path.join(model_path, \"segm.pth\"), map_location=torch.device('cpu'))\n",
    "model.eval();"
   ]
  },
  {
   "cell_type": "code",
   "execution_count": null,
   "metadata": {},
   "outputs": [],
   "source": [
    "val_dataset = FashionpediaDataset(data_path, val_json, val_img_path, transforms=get_transform(False))\n",
    "categories = val_dataset.categories"
   ]
  },
  {
   "cell_type": "code",
   "execution_count": null,
   "metadata": {},
   "outputs": [],
   "source": [
    "i = np.random.randint(0, len(val_dataset))\n",
    "val_im, val_target = val_dataset[i]"
   ]
  },
  {
   "cell_type": "code",
   "execution_count": null,
   "metadata": {},
   "outputs": [],
   "source": [
    "vis_data(val_im.numpy().transpose(1, 2, 0),\n",
    "         val_target,\n",
    "         categories,\n",
    "         num_cols=3,\n",
    "         figsize=(15, 10))"
   ]
  },
  {
   "cell_type": "code",
   "execution_count": null,
   "metadata": {},
   "outputs": [],
   "source": [
    "pred = model([val_im])"
   ]
  },
  {
   "cell_type": "code",
   "execution_count": null,
   "metadata": {},
   "outputs": [],
   "source": [
    "out = filter_data(pred[0], thr)\n",
    "vis_data(val_im.numpy().transpose(1, 2, 0),\n",
    "         out,\n",
    "         categories,\n",
    "         num_cols=2,\n",
    "         figsize=(15, 50))"
   ]
  },
  {
   "cell_type": "markdown",
   "metadata": {},
   "source": [
    "# H&M data\n",
    "Test model on H&M data"
   ]
  },
  {
   "cell_type": "code",
   "execution_count": null,
   "metadata": {},
   "outputs": [],
   "source": [
    "trans = ToTensor()\n",
    "hm_data_path = \"../data\""
   ]
  },
  {
   "cell_type": "code",
   "execution_count": null,
   "metadata": {},
   "outputs": [],
   "source": [
    "file_list = []\n",
    "for file in os.listdir(hm_data_path):\n",
    "    if file.endswith(\".jpg\"):\n",
    "        file_list.append(file)\n",
    "\n",
    "file_list"
   ]
  },
  {
   "cell_type": "code",
   "execution_count": null,
   "metadata": {},
   "outputs": [],
   "source": [
    "im_list = []\n",
    "for file in file_list:\n",
    "    with Image.open(os.path.join(hm_data_path, file), \"r\") as im:\n",
    "        im_list.append(trans(im))"
   ]
  },
  {
   "cell_type": "code",
   "execution_count": null,
   "metadata": {},
   "outputs": [],
   "source": [
    "pred = model(im_list)"
   ]
  },
  {
   "cell_type": "code",
   "execution_count": null,
   "metadata": {},
   "outputs": [],
   "source": [
    "i = 1\n",
    "im_t = im_list[i]\n",
    "out = filter_data(pred[i], thr)\n",
    "vis_data(im_t.numpy().transpose(1, 2, 0),\n",
    "         out,\n",
    "         categories,\n",
    "         num_cols=2,\n",
    "         figsize=(15, 50))"
   ]
  },
  {
   "cell_type": "code",
   "execution_count": null,
   "metadata": {},
   "outputs": [],
   "source": []
  }
 ],
 "metadata": {
  "interpreter": {
   "hash": "1872e62b4d26126124a8c83129f1dcc2a1c88a49fb42cb49cab7738e80395b0e"
  },
  "kernelspec": {
   "display_name": "Python 3.8.12 64-bit ('imseg-env': conda)",
   "language": "python",
   "name": "python3"
  },
  "language_info": {
   "codemirror_mode": {
    "name": "ipython",
    "version": 3
   },
   "file_extension": ".py",
   "mimetype": "text/x-python",
   "name": "python",
   "nbconvert_exporter": "python",
   "pygments_lexer": "ipython3",
   "version": "3.8.12"
  },
  "orig_nbformat": 4
 },
 "nbformat": 4,
 "nbformat_minor": 2
}
