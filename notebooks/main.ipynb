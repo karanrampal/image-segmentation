{
 "cells": [
  {
   "cell_type": "markdown",
   "metadata": {},
   "source": [
    "# Train\n",
    "Run training command on multiple gpus"
   ]
  },
  {
   "cell_type": "code",
   "execution_count": null,
   "metadata": {},
   "outputs": [],
   "source": [
    "%torchrun --standalone --nnodes=1 --nproc_per_node=2 /dbfs/imseg/train.py"
   ]
  }
 ],
 "metadata": {
  "interpreter": {
   "hash": "1872e62b4d26126124a8c83129f1dcc2a1c88a49fb42cb49cab7738e80395b0e"
  },
  "kernelspec": {
   "display_name": "Python 3.8.12 64-bit ('imseg-env': conda)",
   "language": "python",
   "name": "python3"
  },
  "language_info": {
   "name": "python",
   "version": "3.8.12"
  },
  "orig_nbformat": 4
 },
 "nbformat": 4,
 "nbformat_minor": 2
}
